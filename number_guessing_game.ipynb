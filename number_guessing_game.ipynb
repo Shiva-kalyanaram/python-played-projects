{
  "nbformat": 4,
  "nbformat_minor": 0,
  "metadata": {
    "colab": {
      "provenance": []
    },
    "kernelspec": {
      "name": "python3",
      "display_name": "Python 3"
    },
    "language_info": {
      "name": "python"
    }
  },
  "cells": [
    {
      "cell_type": "markdown",
      "source": [
        "# **Guessing ramdom number game using python**\n",
        "\n",
        "In this, we have to import one library called \"random\".\n",
        "\n",
        "After importing that, we have to create a variable called n where we have to store the random numbers which range from 0 to 10 by randrange(0,10).\n",
        "\n",
        "Once the random variable stored, we have to write code to guess the random number by using while loop and using the condition !=.\n",
        "\n",
        "If the user entered a low number comparing to random number, then get the alert as 'Too Low'. If the user enter a high number comparing to random number, then get the alert as \"too high\". If the user entered a numbers which matches the random number, then we can have the output as \"Yes!, you guessed it right\" *italicized text*"
      ],
      "metadata": {
        "id": "20gHSGcoh9d7"
      }
    },
    {
      "cell_type": "code",
      "execution_count": 12,
      "metadata": {
        "id": "23ywYCnbh4CZ"
      },
      "outputs": [],
      "source": [
        "import random"
      ]
    },
    {
      "cell_type": "code",
      "source": [
        "n = random.randrange(1,10)"
      ],
      "metadata": {
        "id": "WPskkuW7iInM"
      },
      "execution_count": 9,
      "outputs": []
    },
    {
      "cell_type": "code",
      "source": [
        "guess = int(input(\"Enter any number:\"))\n",
        "\n",
        "while guess != n:\n",
        "  if guess < n:\n",
        "    print(\"Too Low\")\n",
        "    guess = int(input(\"Enter number again: \"))\n",
        "  elif guess > n:\n",
        "    print(\"Too High\")\n",
        "    guess = int(input(\"Enter number again: \"))\n",
        "  else:\n",
        "    break\n",
        "print(\"Yes!, You guessed it right:)\")\n",
        ""
      ],
      "metadata": {
        "colab": {
          "base_uri": "https://localhost:8080/"
        },
        "id": "eL9KM7v2iLmU",
        "outputId": "e2178dec-0ca8-4e87-f95f-3e12238acfef"
      },
      "execution_count": 10,
      "outputs": [
        {
          "output_type": "stream",
          "name": "stdout",
          "text": [
            "Enter any number:5\n",
            "Too Low\n",
            "Enter number again: 2\n",
            "Too Low\n",
            "Enter number again: 8\n",
            "Yes!, You guessed it right:)\n"
          ]
        }
      ]
    }
  ]
}